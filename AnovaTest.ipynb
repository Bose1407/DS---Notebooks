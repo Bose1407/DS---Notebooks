{
  "nbformat": 4,
  "nbformat_minor": 0,
  "metadata": {
    "colab": {
      "provenance": []
    },
    "kernelspec": {
      "name": "python3",
      "display_name": "Python 3"
    },
    "language_info": {
      "name": "python"
    }
  },
  "cells": [
    {
      "cell_type": "code",
      "execution_count": null,
      "metadata": {
        "colab": {
          "base_uri": "https://localhost:8080/"
        },
        "id": "BrC7qp7Q370B",
        "outputId": "d264c748-b0b6-4ef8-d6f5-c857d3e1524e"
      },
      "outputs": [
        {
          "output_type": "stream",
          "name": "stdout",
          "text": [
            "F-statistic: 9.2647\n",
            "Critical value at alpha = 0.05 : 3.6823\n",
            "Reject the null hypothesis: There are significant differences between the groups.\n"
          ]
        }
      ],
      "source": [
        "import numpy as np\n",
        "from scipy import stats\n",
        "\n",
        "fertilizer1 = np.array([6, 8, 4, 5, 3, 4])\n",
        "fertilizer2 = np.array([8, 12, 9, 11, 6, 8])\n",
        "fertilizer3 = np.array([13, 9, 11, 8, 7, 12])\n",
        "\n",
        "F_statistic, _ = stats.f_oneway(fertilizer1, fertilizer2, fertilizer3)\n",
        "\n",
        "k = 3\n",
        "n = len(fertilizer1) + len(fertilizer2) + len(fertilizer3)\n",
        "dfn = k - 1\n",
        "dfd = n - k\n",
        "\n",
        "alpha = 0.05\n",
        "critical_value = stats.f.ppf(1 - alpha, dfn, dfd)\n",
        "\n",
        "print(f\"F-statistic: {F_statistic:.4f}\")\n",
        "print(f\"Critical value at alpha = {alpha} : {critical_value:.4f}\")\n",
        "\n",
        "if F_statistic > critical_value:\n",
        "    print(\"Reject the null hypothesis: There are significant differences between the groups.\")\n",
        "else:\n",
        "    print(\"Fail to reject the null hypothesis: No significant differences between the groups.\")\n"
      ]
    }
  ]
}