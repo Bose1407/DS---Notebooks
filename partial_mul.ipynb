{
  "nbformat": 4,
  "nbformat_minor": 0,
  "metadata": {
    "colab": {
      "provenance": []
    },
    "kernelspec": {
      "name": "python3",
      "display_name": "Python 3"
    },
    "language_info": {
      "name": "python"
    }
  },
  "cells": [
    {
      "cell_type": "code",
      "source": [
        "\n",
        "\n",
        "import pingouin as pg\n",
        "import pandas as pd\n",
        "\n",
        "# Sample data\n",
        "data = pd.DataFrame({\n",
        "    'x': [1, 2, 3, 4, 5],\n",
        "    'y': [2, 4, 5, 4, 6],\n",
        "    'z': [3, 6, 7, 8, 9]\n",
        "})\n",
        "\n",
        "# Calculate partial correlation between x and y, controlling for z\n",
        "partial_corr = pg.partial_corr(data=data, x='x', y='y', covar='z')\n",
        "\n",
        "print(partial_corr)\n",
        "\n",
        "\n"
      ],
      "metadata": {
        "id": "RsyP8aODfz4w",
        "colab": {
          "base_uri": "https://localhost:8080/"
        },
        "outputId": "b681fb23-41e2-47c1-de68-0d2fe523db6c"
      },
      "execution_count": 5,
      "outputs": [
        {
          "output_type": "stream",
          "name": "stdout",
          "text": [
            "         n         r          CI95%     p-val\n",
            "pearson  5 -0.174608  [-0.97, 0.95]  0.825392\n"
          ]
        }
      ]
    },
    {
      "cell_type": "code",
      "source": [
        "import statsmodels.api as sm\n",
        "import pandas as pd\n",
        "import numpy as np\n",
        "\n",
        "# Sample data\n",
        "data = {'x1': [1, 2, 3, 4, 5],\n",
        "        'x2': [2, 4, 5, 4, 6],\n",
        "        'y': [3, 6, 7, 8, 9]}\n",
        "df = pd.DataFrame(data)\n",
        "\n",
        "# Prepare the data\n",
        "X = df[['x1', 'x2']]\n",
        "y = df['y']\n",
        "\n",
        "# Add a constant term to the independent variables\n",
        "X = sm.add_constant(X)\n",
        "\n",
        "# Fit the linear regression model\n",
        "model = sm.OLS(y, X).fit()\n",
        "\n",
        "# Calculate R-squared, which is the square of the multiple correlation coefficient\n",
        "r_squared = model.rsquared\n",
        "\n",
        "# Calculate the multiple correlation coefficient\n",
        "multiple_r = np.sqrt(r_squared)\n",
        "\n",
        "print(\"Multiple Correlation Coefficient:\", multiple_r)"
      ],
      "metadata": {
        "colab": {
          "base_uri": "https://localhost:8080/"
        },
        "id": "zq-ldkhWzH_J",
        "outputId": "fbee518a-7613-4960-9a09-2320ac247c46"
      },
      "execution_count": 6,
      "outputs": [
        {
          "output_type": "stream",
          "name": "stdout",
          "text": [
            "Multiple Correlation Coefficient: 0.976130210924365\n"
          ]
        }
      ]
    }
  ]
}